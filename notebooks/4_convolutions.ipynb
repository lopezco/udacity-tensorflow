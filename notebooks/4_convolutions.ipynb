{
 "cells": [
  {
   "cell_type": "markdown",
   "metadata": {
    "colab_type": "text",
    "id": "4embtkV0pNxM"
   },
   "source": [
    "Deep Learning\n",
    "=============\n",
    "\n",
    "Assignment 4\n",
    "------------\n",
    "\n",
    "Previously in `2_fullyconnected.ipynb` and `3_regularization.ipynb`, we trained fully connected networks to classify [notMNIST](http://yaroslavvb.blogspot.com/2011/09/notmnist-dataset.html) characters.\n",
    "\n",
    "The goal of this assignment is make the neural network convolutional."
   ]
  },
  {
   "cell_type": "code",
   "execution_count": 1,
   "metadata": {
    "cellView": "both",
    "colab": {
     "autoexec": {
      "startup": false,
      "wait_interval": 0
     }
    },
    "colab_type": "code",
    "collapsed": true,
    "id": "tm2CQN_Cpwj0"
   },
   "outputs": [],
   "source": [
    "# These are all the modules we'll be using later. Make sure you can import them\n",
    "# before proceeding further.\n",
    "from __future__ import print_function\n",
    "import numpy as np\n",
    "import os\n",
    "import tensorflow as tf\n",
    "from six.moves import cPickle as pickle\n",
    "from six.moves import range"
   ]
  },
  {
   "cell_type": "code",
   "execution_count": 2,
   "metadata": {
    "cellView": "both",
    "colab": {
     "autoexec": {
      "startup": false,
      "wait_interval": 0
     },
     "output_extras": [
      {
       "item_id": 1
      }
     ]
    },
    "colab_type": "code",
    "executionInfo": {
     "elapsed": 11948,
     "status": "ok",
     "timestamp": 1446658914837,
     "user": {
      "color": "",
      "displayName": "",
      "isAnonymous": false,
      "isMe": true,
      "permissionId": "",
      "photoUrl": "",
      "sessionId": "0",
      "userId": ""
     },
     "user_tz": 480
    },
    "id": "y3-cj1bpmuxc",
    "outputId": "016b1a51-0290-4b08-efdb-8c95ffc3cd01"
   },
   "outputs": [
    {
     "name": "stdout",
     "output_type": "stream",
     "text": [
      "Training set (200000, 28, 28) (200000,)\n",
      "Validation set (10000, 28, 28) (10000,)\n",
      "Test set (10000, 28, 28) (10000,)\n"
     ]
    }
   ],
   "source": [
    "pickle_file = 'notMNIST.pickle'\n",
    "\n",
    "with open(pickle_file, 'rb') as f:\n",
    "  save = pickle.load(f)\n",
    "  train_dataset = save['train_dataset']\n",
    "  train_labels = save['train_labels']\n",
    "  valid_dataset = save['valid_dataset']\n",
    "  valid_labels = save['valid_labels']\n",
    "  test_dataset = save['test_dataset']\n",
    "  test_labels = save['test_labels']\n",
    "  del save  # hint to help gc free up memory\n",
    "  print('Training set', train_dataset.shape, train_labels.shape)\n",
    "  print('Validation set', valid_dataset.shape, valid_labels.shape)\n",
    "  print('Test set', test_dataset.shape, test_labels.shape)"
   ]
  },
  {
   "cell_type": "markdown",
   "metadata": {
    "colab_type": "text",
    "id": "L7aHrm6nGDMB"
   },
   "source": [
    "Reformat into a TensorFlow-friendly shape:\n",
    "- convolutions need the image data formatted as a cube (width by height by #channels)\n",
    "- labels as float 1-hot encodings."
   ]
  },
  {
   "cell_type": "code",
   "execution_count": 3,
   "metadata": {
    "cellView": "both",
    "colab": {
     "autoexec": {
      "startup": false,
      "wait_interval": 0
     },
     "output_extras": [
      {
       "item_id": 1
      }
     ]
    },
    "colab_type": "code",
    "executionInfo": {
     "elapsed": 11952,
     "status": "ok",
     "timestamp": 1446658914857,
     "user": {
      "color": "",
      "displayName": "",
      "isAnonymous": false,
      "isMe": true,
      "permissionId": "",
      "photoUrl": "",
      "sessionId": "0",
      "userId": ""
     },
     "user_tz": 480
    },
    "id": "IRSyYiIIGIzS",
    "outputId": "650a208c-8359-4852-f4f5-8bf10e80ef6c"
   },
   "outputs": [
    {
     "name": "stdout",
     "output_type": "stream",
     "text": [
      "Training set (200000, 28, 28, 1) (200000, 10)\n",
      "Validation set (10000, 28, 28, 1) (10000, 10)\n",
      "Test set (10000, 28, 28, 1) (10000, 10)\n"
     ]
    }
   ],
   "source": [
    "image_size = 28\n",
    "num_labels = 10\n",
    "num_channels = 1 # grayscale\n",
    "\n",
    "import numpy as np\n",
    "\n",
    "def reformat(dataset, labels):\n",
    "  dataset = dataset.reshape(\n",
    "    (-1, image_size, image_size, num_channels)).astype(np.float32)\n",
    "  labels = (np.arange(num_labels) == labels[:,None]).astype(np.float32)\n",
    "  return dataset, labels\n",
    "train_dataset, train_labels = reformat(train_dataset, train_labels)\n",
    "valid_dataset, valid_labels = reformat(valid_dataset, valid_labels)\n",
    "test_dataset, test_labels = reformat(test_dataset, test_labels)\n",
    "print('Training set', train_dataset.shape, train_labels.shape)\n",
    "print('Validation set', valid_dataset.shape, valid_labels.shape)\n",
    "print('Test set', test_dataset.shape, test_labels.shape)"
   ]
  },
  {
   "cell_type": "code",
   "execution_count": 19,
   "metadata": {
    "cellView": "both",
    "colab": {
     "autoexec": {
      "startup": false,
      "wait_interval": 0
     }
    },
    "colab_type": "code",
    "collapsed": true,
    "id": "AgQDIREv02p1"
   },
   "outputs": [],
   "source": [
    "def accuracy(predictions, labels):\n",
    "  return (100.0 * np.sum(np.argmax(predictions, 1) == np.argmax(labels, 1))\n",
    "          / predictions.shape[0])"
   ]
  },
  {
   "cell_type": "markdown",
   "metadata": {},
   "source": [
    "### Convnet: Two Convolutional Layers, One Fully Connected Layer and Softmax\n",
    "Let's build a small network with two convolutional layers, followed by one fully connected layer.\n",
    "Convolutional networks are more expensive computationally, so we'll limit its depth and number of fully connected nodes.\n",
    "\n",
    "\n",
    "* **Architecture**\n",
    "\n",
    "![4_convolutions_network1](images/4_convolutions_network1.png)\n",
    "\n",
    "\n",
    "\n",
    "* **Weight Initialization**\n",
    "    * Initialize weights with a small amount of noise\n",
    "        * Symmetry breaking\n",
    "        * Prevent 0 gradients\n",
    "    * Make the noise positive to avoid \"dead neurons\" (we're using ReLU neurons)\n",
    "        * Use stddev=0.1\n",
    "        \n",
    "\n",
    "* **Output Size**\n",
    "    * $Out_{size}=\\frac{In_{size} - W_{size} - 2P}{S} +1$\n",
    "        * $Out_{size}$: output height and length\n",
    "        * $In_{size}$: input height and length\n",
    "        * $W_{size}$: patch size\n",
    "        * $P$: padding\n",
    "            * \"same\" = -1\n",
    "            * \"valid\" = 0\n",
    "        * $S$: stride\n",
    "\n"
   ]
  },
  {
   "cell_type": "code",
   "execution_count": 5,
   "metadata": {
    "collapsed": true
   },
   "outputs": [],
   "source": [
    "def compute_output_size(in_size, conv_patch_size, conv_stride, padding='same', pooling_patch_size=None, pooling_stride=None):\n",
    "    if padding == \"same\":\n",
    "        padding = -1\n",
    "    elif padding == \"valid\":\n",
    "        padding = 0\n",
    "    else:\n",
    "        raise ValueError('Unhandled padding {}'.format(padding))\n",
    "\n",
    "    out = (((in_size - conv_patch_size - 2.0 * padding) / conv_stride) + 1)\n",
    "    \n",
    "    if pooling_patch_size is not None and pooling_stride is not None:\n",
    "        out = (((out - pooling_patch_size - 2.0 * padding) / pooling_stride) + 1)\n",
    "    \n",
    "    return out\n",
    "    \n",
    "         "
   ]
  },
  {
   "cell_type": "code",
   "execution_count": 6,
   "metadata": {},
   "outputs": [
    {
     "name": "stdout",
     "output_type": "stream",
     "text": [
      "Final _size after convolutions:  7\n"
     ]
    }
   ],
   "source": [
    "n_convs = 2\n",
    "final_size = 28\n",
    "\n",
    "for i in range(n_convs):\n",
    "    final_size = compute_output_size(in_size=final_size, conv_patch_size=5, conv_stride=2, padding=\"same\")\n",
    "\n",
    "final_size = int(np.ceil(final_size))\n",
    "print('Final _size after convolutions: ', final_size)"
   ]
  },
  {
   "cell_type": "markdown",
   "metadata": {},
   "source": [
    "Therefore the final hidden layer (ReLU layer) will have dimension [784,64]\n",
    "\n",
    "$$(final\\_size)(final\\_size)(16) = (7)(7)(16) = 784$$"
   ]
  },
  {
   "cell_type": "code",
   "execution_count": 36,
   "metadata": {
    "cellView": "both",
    "colab": {
     "autoexec": {
      "startup": false,
      "wait_interval": 0
     }
    },
    "colab_type": "code",
    "collapsed": true,
    "id": "IZYv70SvvOan"
   },
   "outputs": [],
   "source": [
    "batch_size = 16\n",
    "patch_size = 5\n",
    "depth = 16\n",
    "num_hidden = 64\n",
    "\n",
    "graph = tf.Graph()\n",
    "\n",
    "with graph.as_default():\n",
    "\n",
    "    # Input data.\n",
    "    tf_train_dataset = tf.placeholder(tf.float32, shape=(batch_size, image_size, image_size, num_channels))\n",
    "    tf_train_labels = tf.placeholder(tf.float32, shape=(batch_size, num_labels))\n",
    "    tf_valid_dataset = tf.constant(valid_dataset)\n",
    "    tf_test_dataset = tf.constant(test_dataset)\n",
    "\n",
    "    # Variables.\n",
    "    \n",
    "    # Layer1 : 2D-Convolution\n",
    "    # Input channels: num_channels = 1 (depth of the image)\n",
    "    # Output channels: depth = 16\n",
    "    layer1_weights = tf.Variable(tf.truncated_normal(\n",
    "      [patch_size, patch_size, num_channels, depth], stddev=0.1))\n",
    "    layer1_biases = tf.Variable(tf.zeros([depth]))\n",
    "\n",
    "    # Layer2 : 2D-Convolution\n",
    "    # Input channels: num_channels = 16 (depth of previous layer)\n",
    "    # Output channels: depth = 16\n",
    "    layer2_weights = tf.Variable(tf.truncated_normal(\n",
    "      [patch_size, patch_size, depth, depth], stddev=0.1))\n",
    "    layer2_biases = tf.Variable(tf.constant(1.0, shape=[depth]))\n",
    "    \n",
    "    # Layer3 : ReLU layer\n",
    "    layer3_weights = tf.Variable(tf.truncated_normal(\n",
    "      [final_size * final_size * depth, num_hidden], stddev=0.1))\n",
    "    layer3_biases = tf.Variable(tf.constant(1.0, shape=[num_hidden]))\n",
    "    \n",
    "    # Layer4 : Softmax (output layer)\n",
    "    layer4_weights = tf.Variable(tf.truncated_normal(\n",
    "      [num_hidden, num_labels], stddev=0.1))\n",
    "    layer4_biases = tf.Variable(tf.constant(1.0, shape=[num_labels]))\n",
    "\n",
    "    # Stride\n",
    "    # 1-D tensor of length 4. \n",
    "    # The stride of the sliding window for each dimension of input.\n",
    "    #     [batch, in_height, in_width, in_channels]\n",
    "    stride = [1, 2, 2, 1]\n",
    "    \n",
    "    # Model.\n",
    "    def model(data):\n",
    "        conv = tf.nn.conv2d(data, filter=layer1_weights, strides=stride, padding='SAME')\n",
    "        hidden = tf.nn.relu(conv + layer1_biases)\n",
    "        \n",
    "        conv = tf.nn.conv2d(hidden, filter=layer2_weights, strides=stride, padding='SAME')\n",
    "        hidden = tf.nn.relu(conv + layer2_biases)\n",
    "        \n",
    "        shape = hidden.get_shape().as_list()\n",
    "        reshape = tf.reshape(hidden, [shape[0], shape[1] * shape[2] * shape[3]])\n",
    "        \n",
    "        hidden = tf.nn.relu(tf.matmul(reshape, layer3_weights) + layer3_biases)\n",
    "        return tf.matmul(hidden, layer4_weights) + layer4_biases\n",
    "  \n",
    "    # Training computation.\n",
    "    logits = model(tf_train_dataset)\n",
    "    loss = tf.reduce_mean(\n",
    "        tf.nn.softmax_cross_entropy_with_logits(labels=tf_train_labels, logits=logits)\n",
    "    )\n",
    "\n",
    "    # Optimizer.\n",
    "    optimizer = tf.train.GradientDescentOptimizer(0.05).minimize(loss)\n",
    "\n",
    "    # Predictions for the training, validation, and test data.\n",
    "    train_prediction = tf.nn.softmax(logits)\n",
    "    valid_prediction = tf.nn.softmax(model(tf_valid_dataset))\n",
    "    test_prediction = tf.nn.softmax(model(tf_test_dataset))"
   ]
  },
  {
   "cell_type": "code",
   "execution_count": 37,
   "metadata": {
    "cellView": "both",
    "colab": {
     "autoexec": {
      "startup": false,
      "wait_interval": 0
     },
     "output_extras": [
      {
       "item_id": 37
      }
     ]
    },
    "colab_type": "code",
    "executionInfo": {
     "elapsed": 63292,
     "status": "ok",
     "timestamp": 1446658966251,
     "user": {
      "color": "",
      "displayName": "",
      "isAnonymous": false,
      "isMe": true,
      "permissionId": "",
      "photoUrl": "",
      "sessionId": "0",
      "userId": ""
     },
     "user_tz": 480
    },
    "id": "noKFb2UovVFR",
    "outputId": "28941338-2ef9-4088-8bd1-44295661e628"
   },
   "outputs": [
    {
     "name": "stdout",
     "output_type": "stream",
     "text": [
      "Initialized\n",
      "Minibatch loss at step 0: 4.574154\n",
      "Minibatch accuracy: 12.5%\n",
      "Validation accuracy: 10.0%\n",
      "Minibatch loss at step 50: 1.967381\n",
      "Minibatch accuracy: 37.5%\n",
      "Validation accuracy: 39.4%\n",
      "Minibatch loss at step 100: 1.321999\n",
      "Minibatch accuracy: 37.5%\n",
      "Validation accuracy: 68.1%\n",
      "Minibatch loss at step 150: 0.728416\n",
      "Minibatch accuracy: 81.2%\n",
      "Validation accuracy: 73.4%\n",
      "Minibatch loss at step 200: 0.942281\n",
      "Minibatch accuracy: 62.5%\n",
      "Validation accuracy: 75.3%\n",
      "Minibatch loss at step 250: 2.161945\n",
      "Minibatch accuracy: 37.5%\n",
      "Validation accuracy: 72.4%\n",
      "Minibatch loss at step 300: 0.570672\n",
      "Minibatch accuracy: 81.2%\n",
      "Validation accuracy: 77.0%\n",
      "Minibatch loss at step 350: 0.578733\n",
      "Minibatch accuracy: 87.5%\n",
      "Validation accuracy: 79.0%\n",
      "Minibatch loss at step 400: 1.060391\n",
      "Minibatch accuracy: 68.8%\n",
      "Validation accuracy: 79.9%\n",
      "Minibatch loss at step 450: 0.736238\n",
      "Minibatch accuracy: 81.2%\n",
      "Validation accuracy: 80.1%\n",
      "Minibatch loss at step 500: 0.737338\n",
      "Minibatch accuracy: 81.2%\n",
      "Validation accuracy: 79.2%\n",
      "Minibatch loss at step 550: 1.127091\n",
      "Minibatch accuracy: 68.8%\n",
      "Validation accuracy: 81.1%\n",
      "Minibatch loss at step 600: 0.495224\n",
      "Minibatch accuracy: 87.5%\n",
      "Validation accuracy: 80.8%\n",
      "Minibatch loss at step 650: 0.695069\n",
      "Minibatch accuracy: 81.2%\n",
      "Validation accuracy: 80.4%\n",
      "Minibatch loss at step 700: 0.419421\n",
      "Minibatch accuracy: 93.8%\n",
      "Validation accuracy: 81.5%\n",
      "Minibatch loss at step 750: 1.048598\n",
      "Minibatch accuracy: 68.8%\n",
      "Validation accuracy: 80.7%\n",
      "Minibatch loss at step 800: 0.655923\n",
      "Minibatch accuracy: 81.2%\n",
      "Validation accuracy: 80.3%\n",
      "Minibatch loss at step 850: 0.172099\n",
      "Minibatch accuracy: 93.8%\n",
      "Validation accuracy: 82.2%\n",
      "Minibatch loss at step 900: 0.981260\n",
      "Minibatch accuracy: 81.2%\n",
      "Validation accuracy: 82.0%\n",
      "Minibatch loss at step 950: 0.481487\n",
      "Minibatch accuracy: 81.2%\n",
      "Validation accuracy: 82.8%\n",
      "Minibatch loss at step 1000: 0.801778\n",
      "Minibatch accuracy: 75.0%\n",
      "Validation accuracy: 82.0%\n",
      "Test accuracy: 89.0%\n"
     ]
    }
   ],
   "source": [
    "num_steps = 1001\n",
    "\n",
    "with tf.Session(graph=graph) as session:\n",
    "    tf.global_variables_initializer().run()\n",
    "    print('Initialized')\n",
    "    \n",
    "    for step in range(num_steps):\n",
    "        offset = (step * batch_size) % (train_labels.shape[0] - batch_size)\n",
    "        batch_data = train_dataset[offset:(offset + batch_size), :, :, :]\n",
    "        batch_labels = train_labels[offset:(offset + batch_size), :]\n",
    "        \n",
    "        feed_dict = {tf_train_dataset : batch_data, tf_train_labels : batch_labels}\n",
    "        \n",
    "        _, l, predictions = session.run([optimizer, loss, train_prediction], feed_dict=feed_dict)\n",
    "        \n",
    "        if (step % 50 == 0):\n",
    "          print('Minibatch loss at step %d: %f' % (step, l))\n",
    "          print('Minibatch accuracy: %.1f%%' % accuracy(predictions, batch_labels))\n",
    "          print('Validation accuracy: %.1f%%' % accuracy(\n",
    "            valid_prediction.eval(), valid_labels))\n",
    "    print('Test accuracy: %.1f%%' % accuracy(test_prediction.eval(), test_labels))"
   ]
  },
  {
   "cell_type": "markdown",
   "metadata": {
    "colab_type": "text",
    "id": "KedKkn4EutIK"
   },
   "source": [
    "---\n",
    "Problem 1\n",
    "---------\n",
    "\n",
    "The convolutional model above uses convolutions with stride 2 to reduce the dimensionality. Replace the strides by a max pooling operation (`nn.max_pool()`) of stride 2 and kernel size 2.\n",
    "\n",
    "---"
   ]
  },
  {
   "cell_type": "code",
   "execution_count": 58,
   "metadata": {},
   "outputs": [
    {
     "name": "stdout",
     "output_type": "stream",
     "text": [
      "Final _size after convolutions:  7\n"
     ]
    }
   ],
   "source": [
    "n_convs = 2\n",
    "final_size = image_size\n",
    "\n",
    "for i in range(n_convs):\n",
    "    final_size = compute_output_size(in_size=final_size, conv_patch_size=5, conv_stride=1, \n",
    "                                     pooling_patch_size=2, pooling_stride=2, padding=\"same\")\n",
    "\n",
    "final_size = int(np.ceil(final_size))\n",
    "print('Final _size after convolutions: ', final_size)"
   ]
  },
  {
   "cell_type": "markdown",
   "metadata": {},
   "source": [
    "Therefore the final hidden layer (ReLU layer) will have dimension [784,64]\n",
    "\n",
    "$$(final\\_size)(final\\_size)(16) = (7)(7)(16) = 784$$"
   ]
  },
  {
   "cell_type": "code",
   "execution_count": null,
   "metadata": {
    "cellView": "both",
    "colab": {
     "autoexec": {
      "startup": false,
      "wait_interval": 0
     }
    },
    "colab_type": "code",
    "id": "IZYv70SvvOan"
   },
   "outputs": [],
   "source": [
    "batch_size = 16\n",
    "depth = 16\n",
    "num_hidden = 64\n",
    "\n",
    "# Convolutions\n",
    "patch_size = 5\n",
    "conv_stride = [1, 1, 1, 1]\n",
    "padding='SAME'\n",
    "\n",
    "# Pooling\n",
    "pooling_stride = [1, 2, 2, 1]\n",
    "pooling_patch = [1, 2, 2, 1]\n",
    "\n",
    "graph = tf.Graph()\n",
    "\n",
    "with graph.as_default():\n",
    "\n",
    "    # Input data.\n",
    "    tf_train_dataset = tf.placeholder(tf.float32, shape=(batch_size, image_size, image_size, num_channels))\n",
    "    tf_train_labels = tf.placeholder(tf.float32, shape=(batch_size, num_labels))\n",
    "    tf_valid_dataset = tf.constant(valid_dataset)\n",
    "    tf_test_dataset = tf.constant(test_dataset)\n",
    "\n",
    "    # Variables.\n",
    "    \n",
    "    # Layer1 : 2D-Convolution\n",
    "    # Input channels: num_channels = 1 (depth of the image)\n",
    "    # Output channels: depth = 16\n",
    "    layer1_weights = tf.Variable(tf.truncated_normal(\n",
    "      [patch_size, patch_size, num_channels, depth], stddev=0.1))\n",
    "    layer1_biases = tf.Variable(tf.zeros([depth]))\n",
    "\n",
    "    # Layer2 : 2D-Convolution\n",
    "    # Input channels: num_channels = 16 (depth of previous layer)\n",
    "    # Output channels: depth = 16\n",
    "    layer2_weights = tf.Variable(tf.truncated_normal(\n",
    "      [patch_size, patch_size, depth, depth], stddev=0.1))\n",
    "    layer2_biases = tf.Variable(tf.constant(1.0, shape=[depth]))\n",
    "    \n",
    "    # Layer3 : ReLU layer\n",
    "    layer3_weights = tf.Variable(tf.truncated_normal(\n",
    "      [final_size * final_size * depth, num_hidden], stddev=0.1))\n",
    "    layer3_biases = tf.Variable(tf.constant(1.0, shape=[num_hidden]))\n",
    "    \n",
    "    # Layer4 : Softmax (output layer)\n",
    "    layer4_weights = tf.Variable(tf.truncated_normal(\n",
    "      [num_hidden, num_labels], stddev=0.1))\n",
    "    layer4_biases = tf.Variable(tf.constant(1.0, shape=[num_labels]))\n",
    "\n",
    "    # Stride\n",
    "    # 1-D tensor of length 4. \n",
    "    # The stride of the sliding window for each dimension of input.\n",
    "    #     [batch, in_height, in_width, in_channels]\n",
    "    \n",
    "    # Model.\n",
    "    def model(data):\n",
    "        conv = tf.nn.conv2d(data, filter=layer1_weights, strides=conv_stride, padding=padding)\n",
    "        hidden = tf.nn.relu(conv + layer1_biases)\n",
    "        pooling = tf.nn.max_pool(hidden, ksize=pooling_patch, strides=pooling_stride, padding=padding)\n",
    "                \n",
    "        conv = tf.nn.conv2d(pooling, filter=layer2_weights, strides=conv_stride, padding=padding)\n",
    "        hidden = tf.nn.relu(conv + layer2_biases)\n",
    "        pooling = tf.nn.max_pool(hidden, ksize=pooling_patch, strides=pooling_stride, padding=padding)\n",
    "        \n",
    "        shape = pooling.get_shape().as_list()\n",
    "        reshape = tf.reshape(pooling, [shape[0], shape[1] * shape[2] * shape[3]])\n",
    "        \n",
    "        hidden = tf.nn.relu(tf.matmul(reshape, layer3_weights) + layer3_biases)\n",
    "        return tf.matmul(hidden, layer4_weights) + layer4_biases\n",
    "  \n",
    "    # Training computation.\n",
    "    logits = model(tf_train_dataset)\n",
    "    loss = tf.reduce_mean(\n",
    "        tf.nn.softmax_cross_entropy_with_logits(labels=tf_train_labels, logits=logits)\n",
    "    )\n",
    "\n",
    "    # Optimizer.\n",
    "    optimizer = tf.train.GradientDescentOptimizer(0.05).minimize(loss)\n",
    "\n",
    "    # Predictions for the training, validation, and test data.\n",
    "    train_prediction = tf.nn.softmax(logits)\n",
    "    valid_prediction = tf.nn.softmax(model(tf_valid_dataset))\n",
    "    test_prediction = tf.nn.softmax(model(tf_test_dataset))"
   ]
  },
  {
   "cell_type": "code",
   "execution_count": 100,
   "metadata": {
    "cellView": "both",
    "colab": {
     "autoexec": {
      "startup": false,
      "wait_interval": 0
     },
     "output_extras": [
      {
       "item_id": 37
      }
     ]
    },
    "colab_type": "code",
    "executionInfo": {
     "elapsed": 63292,
     "status": "ok",
     "timestamp": 1446658966251,
     "user": {
      "color": "",
      "displayName": "",
      "isAnonymous": false,
      "isMe": true,
      "permissionId": "",
      "photoUrl": "",
      "sessionId": "0",
      "userId": ""
     },
     "user_tz": 480
    },
    "id": "noKFb2UovVFR",
    "outputId": "28941338-2ef9-4088-8bd1-44295661e628"
   },
   "outputs": [
    {
     "name": "stdout",
     "output_type": "stream",
     "text": [
      "Initialized\n",
      "Minibatch loss at step 0: 3.695924\n",
      "Minibatch accuracy: 6.2%\n",
      "Validation accuracy: 10.5%\n",
      "Minibatch loss at step 5000: 0.700120\n",
      "Minibatch accuracy: 75.0%\n",
      "Validation accuracy: 87.9%\n",
      "Minibatch loss at step 10000: 0.079954\n",
      "Minibatch accuracy: 93.8%\n",
      "Validation accuracy: 88.9%\n",
      "Minibatch loss at step 15000: 0.281704\n",
      "Minibatch accuracy: 87.5%\n",
      "Validation accuracy: 89.3%\n",
      "Minibatch loss at step 20000: 0.306930\n",
      "Minibatch accuracy: 93.8%\n",
      "Validation accuracy: 89.7%\n",
      "Minibatch loss at step 25000: 0.408342\n",
      "Minibatch accuracy: 87.5%\n",
      "Validation accuracy: 89.9%\n",
      "Test accuracy: 95.7%\n"
     ]
    }
   ],
   "source": [
    "num_steps = 30000\n",
    "\n",
    "with tf.Session(graph=graph) as session:\n",
    "    tf.global_variables_initializer().run()\n",
    "    print('Initialized')\n",
    "    \n",
    "    for step in range(num_steps):\n",
    "        offset = (step * batch_size) % (train_labels.shape[0] - batch_size)\n",
    "        batch_data = train_dataset[offset:(offset + batch_size), :, :, :]\n",
    "        batch_labels = train_labels[offset:(offset + batch_size), :]\n",
    "        \n",
    "        feed_dict = {tf_train_dataset : batch_data, tf_train_labels : batch_labels}\n",
    "        \n",
    "        _, l, predictions = session.run([optimizer, loss, train_prediction], feed_dict=feed_dict)\n",
    "        \n",
    "        if (step % 5000 == 0):\n",
    "          print('Minibatch loss at step %d: %f' % (step, l))\n",
    "          print('Minibatch accuracy: %.1f%%' % accuracy(predictions, batch_labels))\n",
    "          print('Validation accuracy: %.1f%%' % accuracy(\n",
    "            valid_prediction.eval(), valid_labels))\n",
    "    print('Test accuracy: %.1f%%' % accuracy(test_prediction.eval(), test_labels))"
   ]
  },
  {
   "cell_type": "markdown",
   "metadata": {
    "colab_type": "text",
    "id": "klf21gpbAgb-"
   },
   "source": [
    "---\n",
    "Problem 2\n",
    "---------\n",
    "\n",
    "Try to get the best performance you can using a convolutional net. Look for example at the classic [LeNet5](http://yann.lecun.com/exdb/lenet/) architecture, adding Dropout, and/or adding learning rate decay.\n",
    "\n",
    "---"
   ]
  },
  {
   "cell_type": "markdown",
   "metadata": {},
   "source": [
    "### Attempt to create a better model:\n",
    "\n",
    "**Architecture**\n",
    "    $$Convolution > Max Pooling > Convolution > Max Pooling > Fully Connected > Fully Connected > Readout$$ \n",
    "\n",
    "**Configuration**\n",
    "* Convolution Configuration\n",
    "    * Patch size = 5\n",
    "    * Padding: SAME\n",
    "    * ReLU activations\n",
    "* Max Polling Configuration\n",
    "    * Stride = 2\n",
    "    * Patch size = 2\n",
    "    * Padding: VALID\n",
    "* Fully Connected Layer Configuration\n",
    "    * Neurons: [64, 32]\n",
    "    * ReLU activations\n",
    "    * Dropout: 50%\n",
    "* Read-out\n",
    "    * Softmax\n",
    "\n",
    "**Loss**\n",
    "* Softmax cross entropy with logits\n",
    "* L2 regularization\n",
    "    * Beta = 0.001\n",
    "\n",
    "**Optimization**\n",
    "* AdaDelta\n",
    "\n",
    "* Learning rate\n",
    "    * Initial value: 0.5\n",
    "    * Exponential decay\n"
   ]
  },
  {
   "cell_type": "code",
   "execution_count": 7,
   "metadata": {},
   "outputs": [
    {
     "name": "stdout",
     "output_type": "stream",
     "text": [
      "Final _size after convolutions:  4\n"
     ]
    }
   ],
   "source": [
    "n_convs = 2\n",
    "final_size = image_size\n",
    "\n",
    "for i in range(n_convs):\n",
    "    final_size = compute_output_size(in_size=final_size, conv_patch_size=5, conv_stride=1, \n",
    "                                     pooling_patch_size=2, pooling_stride=2, padding=\"valid\")\n",
    "\n",
    "final_size = int(np.ceil(final_size))\n",
    "print('Final _size after convolutions: ', final_size)"
   ]
  },
  {
   "cell_type": "markdown",
   "metadata": {},
   "source": [
    "Therefore the final hidden layer (ReLU layer) will have dimension [256,64]\n",
    "\n",
    "$$(final\\_size)(final\\_size)(16) = (4)(4)(16) = 256$$"
   ]
  },
  {
   "cell_type": "code",
   "execution_count": 14,
   "metadata": {},
   "outputs": [],
   "source": [
    "def variable_summaries(var):\n",
    "    \"\"\"Attach a lot of summaries to a Tensor (for TensorBoard visualization).\"\"\"\n",
    "    with tf.name_scope('summaries'):\n",
    "        mean = tf.reduce_mean(var)\n",
    "        tf.summary.scalar('mean', mean)\n",
    "        \n",
    "        with tf.name_scope('stddev'):\n",
    "            stddev = tf.sqrt(tf.reduce_mean(tf.square(var - mean)))\n",
    "            \n",
    "        tf.summary.scalar('stddev', stddev)\n",
    "        tf.summary.scalar('max', tf.reduce_max(var))\n",
    "        tf.summary.scalar('min', tf.reduce_min(var))\n",
    "        tf.summary.histogram('histogram', var)\n",
    "\n",
    "\n",
    "def weight_variable(size, distribution=tf.truncated_normal, **kwargs):\n",
    "    return tf.get_variable('weight', initializer=distribution(size, **kwargs))\n",
    "\n",
    "\n",
    "def bias_variable(size, distribution=tf.zeros, **kwargs):\n",
    "    return tf.get_variable('biases', initializer=distribution(size, **kwargs))\n",
    "\n",
    "\n",
    "def fully_connected_layer(input_tensor, input_dim, output_dim, layer_name, act=tf.nn.relu,\n",
    "                          reuse_regularizers=None, reuse_weights=None):\n",
    "    \"\"\"Reusable code for making a simple neural net layer.\n",
    "\n",
    "    It does a matrix multiply, bias add, and then uses relu to nonlinearize.\n",
    "    It also sets up name scoping so that the resultant graph is easy to read,\n",
    "    and adds a number of summary ops.\n",
    "    \"\"\"\n",
    "    \n",
    "    # Adding a name scope ensures logical grouping of the layers in the graph.\n",
    "    with tf.variable_scope(layer_name, reuse=reuse_weights):\n",
    "        # This Variable will hold the state of the weights for the layer\n",
    "\n",
    "        weights = weight_variable([input_dim, output_dim],  stddev=0.1)\n",
    "        variable_summaries(weights)\n",
    "        \n",
    "        biases = bias_variable([output_dim])\n",
    "        variable_summaries(biases)\n",
    "\n",
    "        preactivate = tf.matmul(input_tensor, weights) + biases\n",
    "        tf.summary.histogram('pre_activations', preactivate)\n",
    "            \n",
    "        activations = act(preactivate, name='activation')\n",
    "        tf.summary.histogram('activations', activations)\n",
    "\n",
    "    with tf.variable_scope('regularization', reuse=reuse_regularizers):\n",
    "        regularizers = tf.get_variable('regularizers', [], initializer=tf.zeros_initializer)\n",
    "        regularizers += tf.nn.l2_loss(weights)\n",
    "        \n",
    "    return activations\n",
    "    \n",
    "\n",
    "def convolution_layer(input_tensor, num_channels, depth, conv_patch_size, conv_stride,padding, layer_name, \n",
    "                      act=tf.nn.relu, pool_patch_size=None, pool_stride=None, \n",
    "                      reuse_regularizers=None, reuse_weights=None):\n",
    "\n",
    "    # Adding a name scope ensures logical grouping of the layers in the graphs    \n",
    "    with tf.variable_scope(layer_name, reuse=reuse_weights):\n",
    "        \n",
    "        weights = weight_variable([conv_patch_size, conv_patch_size, num_channels, depth],  stddev=0.1)\n",
    "        variable_summaries(weights)\n",
    "\n",
    "        biases = bias_variable([depth])\n",
    "        variable_summaries(biases)\n",
    "    \n",
    "        preactivate = tf.nn.conv2d(input_tensor, filter=weights, strides=conv_stride, padding=padding) + biases\n",
    "        tf.summary.histogram('pre_activations', preactivate)\n",
    "\n",
    "        activations = act(preactivate, name='activation')\n",
    "        \n",
    "        if pool_patch_size is not None and pool_stride is not None:\n",
    "            activations = tf.nn.max_pool(activations, ksize=pool_patch_size, strides=pool_stride, \n",
    "                                         padding=padding, name='maxpool')\n",
    "            \n",
    "        tf.summary.histogram('activations', activations)\n",
    "            \n",
    "    with tf.variable_scope('regularization', reuse=reuse_regularizers):\n",
    "        regularizers = tf.get_variable('regularizers', [], initializer=tf.zeros_initializer)\n",
    "        regularizers += tf.nn.l2_loss(weights)\n",
    "        \n",
    "    return activations\n",
    "\n",
    "\n",
    "def model(data, train=False):\n",
    "    \n",
    "    # Layer1 : 2D-Convolution\n",
    "    # Input channels: num_channels = 1 (depth of the image)\n",
    "    # Output channels: depth = 16\n",
    "    conv = convolution_layer(\n",
    "        layer_name=\"Conv1\",\n",
    "        input_tensor=data, num_channels=int(data.get_shape()[-1]), depth=depth, \n",
    "        conv_patch_size=conv_patch_size, conv_stride=[1,1,1,1], padding=padding,\n",
    "        act=tf.nn.relu, pool_patch_size=pool_patch_size, pool_stride=pool_stride,\n",
    "        reuse_regularizers=None if train else True, reuse_weights=None if train else True\n",
    "    )\n",
    "\n",
    "\n",
    "    # Layer2 : 2D-Convolution\n",
    "    # Input channels: num_channels = 16 (depth of previous layer)\n",
    "    # Output channels: depth = 16\n",
    "    conv = convolution_layer(\n",
    "        layer_name=\"Conv2\",\n",
    "        input_tensor=conv, num_channels=depth, depth=depth, \n",
    "        conv_patch_size=conv_patch_size, conv_stride=[1,1,1,1], padding=padding,\n",
    "        act=tf.nn.relu, pool_patch_size=pool_patch_size, pool_stride=pool_stride,\n",
    "        reuse_regularizers=True, reuse_weights=None if train else True\n",
    "    )\n",
    "\n",
    "    shape = conv.get_shape().as_list()\n",
    "    reshape = tf.reshape(conv, [shape[0], shape[1] * shape[2] * shape[3]])\n",
    "\n",
    "    # Layer3 : ReLU layer\n",
    "    hidden = fully_connected_layer(\n",
    "        layer_name=\"FullyConnected1\",\n",
    "        input_tensor=reshape, \n",
    "        input_dim=final_size * final_size * depth, output_dim=num_hidden,\n",
    "        act=tf.nn.relu,\n",
    "        reuse_regularizers=True, reuse_weights=None if train else True        \n",
    "    )           \n",
    "\n",
    "    if train:\n",
    "        hidden = tf.nn.dropout(hidden, keep_prob=dropout_keep_prob)\n",
    "\n",
    "    # Layer4 : ReLU layer\n",
    "    hidden = fully_connected_layer(\n",
    "        layer_name=\"FullyConnected2\",\n",
    "        input_tensor=hidden, \n",
    "        input_dim=num_hidden, output_dim=num_hidden/2,\n",
    "        act=tf.nn.relu,\n",
    "        reuse_regularizers=True, reuse_weights=None if train else True\n",
    "    )\n",
    "\n",
    "    if train:\n",
    "        hidden = tf.nn.dropout(hidden, keep_prob=dropout_keep_prob)\n",
    "\n",
    "    # Layer5 : Output layer\n",
    "    logits = fully_connected_layer(\n",
    "        layer_name=\"Read-out\",\n",
    "        input_tensor=hidden, \n",
    "        input_dim=num_hidden/2, output_dim=num_labels,\n",
    "        act=tf.identity,\n",
    "        reuse_regularizers=True, reuse_weights=None if train else True\n",
    "    )\n",
    "\n",
    "    return logits"
   ]
  },
  {
   "cell_type": "code",
   "execution_count": 18,
   "metadata": {
    "cellView": "both",
    "colab": {
     "autoexec": {
      "startup": false,
      "wait_interval": 0
     }
    },
    "colab_type": "code",
    "id": "IZYv70SvvOan"
   },
   "outputs": [],
   "source": [
    "batch_size = 16\n",
    "depth = 16\n",
    "num_hidden = 64\n",
    "\n",
    "conv_patch_size = 5\n",
    "conv_stride = [1, 1, 1, 1]\n",
    "\n",
    "pool_patch_size = [1, 2, 2, 1]\n",
    "pool_stride = [1, 2, 2, 1]\n",
    "\n",
    "padding='VALID'\n",
    "dropout_keep_prob = 0.5\n",
    "beta = 0.001\n",
    "start_learning_rate = 0.5\n",
    "\n",
    "batch_size = 16\n",
    "\n",
    "\n",
    "graph = tf.Graph()\n",
    "\n",
    "with graph.as_default():\n",
    "\n",
    "    # Input data.\n",
    "    tf_dataset = tf.placeholder(tf.float32, shape=(batch_size, image_size, image_size, num_channels))\n",
    "    tf_labels = tf.placeholder(tf.float32, shape=(batch_size, num_labels))\n",
    "    \n",
    "    # Validation and test data\n",
    "    tf_valid_dataset = tf.constant(valid_dataset)\n",
    "    tf_test_dataset = tf.constant(test_dataset)\n",
    "    \n",
    "    # Training computation.\n",
    "    # We compute the cross-entropy (it's one operation in TensorFlow, because\n",
    "    # it's very common, and it can be optimized). We take the average of this\n",
    "    # cross-entropy across all training examples: that's our loss.\n",
    "    logits = model(tf_dataset, train=True)\n",
    "    \n",
    "    with tf.variable_scope('regularization', reuse=True):\n",
    "        regularizers = tf.get_variable('regularizers', [], initializer=tf.zeros_initializer)\n",
    "\n",
    "    with tf.name_scope('cross_entropy'):\n",
    "        loss = tf.nn.softmax_cross_entropy_with_logits(labels=tf_labels, logits=logits)\n",
    "        loss = tf.reduce_mean(loss + beta * regularizers)\n",
    "    \n",
    "    tf.summary.scalar('cross_entropy', loss)\n",
    "\n",
    "    # Addaptive learning rate. Source [https://www.tensorflow.org/api_docs/python/tf/train/exponential_decay]\n",
    "    # Initialize counter variable for the number of steps taken\n",
    "    with tf.name_scope('learning_rate'):\n",
    "        global_step = tf.Variable(0, trainable=False)  \n",
    "        learning_rate = tf.train.exponential_decay(start_learning_rate, global_step, 100000, 0.96, staircase=True)\n",
    "\n",
    "    # Optimizer.\n",
    "    # We are going to find the minimum of this loss using gradient descent.\n",
    "    # Passing global_step to minimize() will increment it at each step.\n",
    "    with tf.name_scope('train'):\n",
    "        optimizer = tf.train.AdadeltaOptimizer(learning_rate).minimize(loss, global_step=global_step)\n",
    "\n",
    "    with tf.name_scope('prediction'):\n",
    "        train_prediction = tf.nn.softmax(logits)\n",
    "        valid_prediction = tf.nn.softmax(model(tf_valid_dataset, train=False))\n",
    "        test_prediction = tf.nn.softmax(model(tf_test_dataset, train=False))\n",
    "        \n",
    "    with tf.name_scope('accuracy'):\n",
    "        with tf.name_scope('correct_prediction'):\n",
    "            train_correct_prediction = tf.equal(tf.argmax(tf_labels, 1), tf.argmax(train_prediction, 1))\n",
    "        with tf.name_scope('accuracy'):\n",
    "            train_accuracy = tf.reduce_mean(tf.cast(train_correct_prediction, tf.float32)) * 100\n",
    "        tf.summary.scalar('train_accuracy', train_accuracy)    \n",
    "\n",
    "        with tf.name_scope('correct_prediction'):\n",
    "            valid_correct_prediction = tf.equal(tf.argmax(valid_labels, 1), tf.argmax(valid_prediction, 1))\n",
    "        with tf.name_scope('accuracy'):\n",
    "            valid_accuracy = tf.reduce_mean(tf.cast(valid_correct_prediction, tf.float32)) * 100\n",
    "        tf.summary.scalar('valid_accuracy', valid_accuracy)    \n",
    "    \n",
    "    # Merge all the summaries and write them out to /tmp/mnist_logs (by default)\n",
    "    merged_summary = tf.summary.merge_all()"
   ]
  },
  {
   "cell_type": "code",
   "execution_count": 20,
   "metadata": {
    "cellView": "both",
    "colab": {
     "autoexec": {
      "startup": false,
      "wait_interval": 0
     },
     "output_extras": [
      {
       "item_id": 37
      }
     ]
    },
    "colab_type": "code",
    "executionInfo": {
     "elapsed": 63292,
     "status": "ok",
     "timestamp": 1446658966251,
     "user": {
      "color": "",
      "displayName": "",
      "isAnonymous": false,
      "isMe": true,
      "permissionId": "",
      "photoUrl": "",
      "sessionId": "0",
      "userId": ""
     },
     "user_tz": 480
    },
    "id": "noKFb2UovVFR",
    "outputId": "28941338-2ef9-4088-8bd1-44295661e628"
   },
   "outputs": [
    {
     "name": "stdout",
     "output_type": "stream",
     "text": [
      "Initialized\n",
      "Minibatch loss at step 0: 2.309797\n",
      "Minibatch accuracy: 0.00%\n",
      "Validation accuracy: 12.59%\n",
      "Minibatch loss at step 5000: 1.274386\n",
      "Minibatch accuracy: 68.75%\n",
      "Validation accuracy: 78.34%\n",
      "Minibatch loss at step 10000: 0.601179\n",
      "Minibatch accuracy: 68.75%\n",
      "Validation accuracy: 80.78%\n",
      "Minibatch loss at step 15000: 0.854389\n",
      "Minibatch accuracy: 81.25%\n",
      "Validation accuracy: 82.04%\n",
      "Minibatch loss at step 20000: 0.814152\n",
      "Minibatch accuracy: 68.75%\n",
      "Validation accuracy: 83.20%\n",
      "Minibatch loss at step 25000: 0.632932\n",
      "Minibatch accuracy: 75.00%\n",
      "Validation accuracy: 83.68%\n",
      "Minibatch loss at step 30000: 0.638202\n",
      "Minibatch accuracy: 81.25%\n",
      "Validation accuracy: 84.28%\n",
      "Minibatch loss at step 35000: 0.350202\n",
      "Minibatch accuracy: 81.25%\n",
      "Validation accuracy: 84.49%\n",
      "Test accuracy: 91.35%\n"
     ]
    }
   ],
   "source": [
    "num_steps = 40000\n",
    "\n",
    "logs_path = os.environ['TENSORBOARD_LOGDIR']\n",
    "writer = tf.summary.FileWriter(logs_path, graph=graph)\n",
    "\n",
    "with tf.Session(graph=graph) as session:\n",
    "    train_writer = tf.summary.FileWriter(os.path.join(logs_path, 'train'), graph=session.graph)\n",
    "    valid_writer = tf.summary.FileWriter(os.path.join(logs_path, 'valid'))\n",
    "    \n",
    "    tf.global_variables_initializer().run()\n",
    "    print('Initialized')\n",
    "    \n",
    "    for step in range(num_steps):\n",
    "        \n",
    "        offset = (step * batch_size) % (train_labels.shape[0] - batch_size)\n",
    "        batch_data = train_dataset[offset:(offset + batch_size), :, :, :]\n",
    "        batch_labels = train_labels[offset:(offset + batch_size), :]\n",
    "        \n",
    "        feed_dict={\n",
    "            tf_dataset : batch_data, \n",
    "            tf_labels : batch_labels\n",
    "        }\n",
    "        \n",
    "        _, l, prediction = session.run([optimizer, loss, train_prediction], feed_dict=feed_dict)\n",
    "        \n",
    "        if (step % 5000 == 0):\n",
    "            summary, train_acc, valid_acc = session.run([merged_summary, train_accuracy, valid_accuracy],\n",
    "                                                        feed_dict=feed_dict)\n",
    "            train_writer.add_summary(summary, step)\n",
    "            valid_writer.add_summary(summary, step)\n",
    "            \n",
    "            print('Minibatch loss at step %d: %f' % (step, l))\n",
    "            print('Minibatch accuracy: %.2f%%' % train_acc)\n",
    "            print('Validation accuracy: %.2f%%' % valid_acc)                \n",
    "                            \n",
    "    test_accuracy = accuracy(test_prediction.eval(), test_labels) \n",
    "    print('Test accuracy: %.2f%%' % test_accuracy)\n"
   ]
  }
 ],
 "metadata": {
  "colab": {
   "default_view": {},
   "name": "4_convolutions.ipynb",
   "provenance": [],
   "version": "0.3.2",
   "views": {}
  },
  "kernelspec": {
   "display_name": "Python 2",
   "language": "python",
   "name": "python2"
  },
  "language_info": {
   "codemirror_mode": {
    "name": "ipython",
    "version": 2
   },
   "file_extension": ".py",
   "mimetype": "text/x-python",
   "name": "python",
   "nbconvert_exporter": "python",
   "pygments_lexer": "ipython2",
   "version": "2.7.12"
  }
 },
 "nbformat": 4,
 "nbformat_minor": 1
}
